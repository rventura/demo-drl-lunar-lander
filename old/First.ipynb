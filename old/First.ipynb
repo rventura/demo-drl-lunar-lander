{
 "cells": [
  {
   "cell_type": "code",
   "execution_count": 3,
   "id": "a5521e3f",
   "metadata": {},
   "outputs": [],
   "source": [
    "import random\n",
    "import numpy as np\n",
    "import gymnasium as gym\n",
    "import torch\n",
    "import torch.nn as nn\n",
    "import torch.optim as optim"
   ]
  },
  {
   "cell_type": "code",
   "execution_count": 11,
   "id": "52a09757",
   "metadata": {},
   "outputs": [],
   "source": [
    "def policy(env, observation):\n",
    "    return env.action_space.sample()  # agent policy that uses the observation and info"
   ]
  },
  {
   "cell_type": "code",
   "execution_count": 19,
   "id": "79494edb",
   "metadata": {},
   "outputs": [],
   "source": [
    "def run(policy, N=1000):\n",
    "    env = gym.make(\"LunarLander-v2\") #, render_mode=\"human\")\n",
    "    \n",
    "    episodes = []\n",
    "    current = []    \n",
    "    observation, info = env.reset()\n",
    "    for _ in range(N):\n",
    "        action = policy(env, observation)\n",
    "        next_observation, reward, terminated, truncated, next_info = env.step(action)\n",
    "        if terminated or truncated:\n",
    "            current.append((observation, action, reward, next_observation, True))\n",
    "            episodes.append(current)\n",
    "            current = []\n",
    "            observation, info = env.reset()\n",
    "        else:\n",
    "            current.append((observation, action, reward, next_observation, False))\n",
    "    if len(current)>0:\n",
    "        episodes.append(current)\n",
    "    env.close()\n",
    "    return episodes"
   ]
  },
  {
   "cell_type": "code",
   "execution_count": 20,
   "id": "31cce00a",
   "metadata": {},
   "outputs": [],
   "source": [
    "episodes = run(policy)"
   ]
  },
  {
   "cell_type": "code",
   "execution_count": 30,
   "id": "3e964cfd",
   "metadata": {},
   "outputs": [],
   "source": [
    "class DQN:\n",
    "    BATCH_SIZE = 10\n",
    "    \n",
    "    def __init__(self):\n",
    "        self.env = gym.make(\"LunarLander-v2\") #, render_mode=\"human\")\n",
    "        self.model = nn.Sequential(\n",
    "            nn.Linear(8, 4))\n",
    "        self.loss = nn.MSELoss()\n",
    "        self.optimizer = optim.SGD(self.model.parameters())\n",
    "        \n",
    "    def policy(self, observation):\n",
    "        return self.env.action_space.sample()\n",
    "\n",
    "    def run(self, Ne=10):\n",
    "        self.pool = []\n",
    "        for i in range(Ne):\n",
    "            observation, info = self.env.reset()\n",
    "            while True:\n",
    "                action = self.policy(observation)\n",
    "                next_observation, reward, terminated, truncated, next_info = self.env.step(action)\n",
    "                if terminated or truncated:\n",
    "                    self.pool.append((observation, action, reward, next_observation, True))\n",
    "                    break\n",
    "                else:\n",
    "                    self.pool.append((observation, action, reward, next_observation, False))\n",
    "                self.train()\n",
    "\n",
    "    def train(self):\n",
    "        if len(self.pool)>=self.BATCH_SIZE:\n",
    "            minibatch = random.sample(self.pool, self.BATCH_SIZE)\n",
    "            inputs = torch.tensor(minibatch)\n",
    "            \n",
    "            \n",
    "        self.optimizer.zero_grad()\n",
    "        # ...\n",
    "        outputs = self.model(inputs)\n"
   ]
  },
  {
   "cell_type": "code",
   "execution_count": null,
   "id": "b747bda9",
   "metadata": {
    "scrolled": false
   },
   "outputs": [],
   "source": [
    "agent = DQN()\n",
    "agent.run()"
   ]
  },
  {
   "cell_type": "code",
   "execution_count": 26,
   "id": "5f9f2c88",
   "metadata": {},
   "outputs": [
    {
     "data": {
      "text/plain": [
       "831"
      ]
     },
     "execution_count": 26,
     "metadata": {},
     "output_type": "execute_result"
    }
   ],
   "source": [
    "len(agent.pool)"
   ]
  },
  {
   "cell_type": "code",
   "execution_count": null,
   "id": "6b6c771f",
   "metadata": {},
   "outputs": [],
   "source": []
  }
 ],
 "metadata": {
  "kernelspec": {
   "display_name": "Python 3 (ipykernel)",
   "language": "python",
   "name": "python3"
  },
  "language_info": {
   "codemirror_mode": {
    "name": "ipython",
    "version": 3
   },
   "file_extension": ".py",
   "mimetype": "text/x-python",
   "name": "python",
   "nbconvert_exporter": "python",
   "pygments_lexer": "ipython3",
   "version": "3.11.3"
  }
 },
 "nbformat": 4,
 "nbformat_minor": 5
}
